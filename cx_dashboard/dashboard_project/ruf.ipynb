{
 "cells": [
  {
   "cell_type": "code",
   "execution_count": 1,
   "id": "b0e0e526",
   "metadata": {},
   "outputs": [
    {
     "name": "stderr",
     "output_type": "stream",
     "text": [
      "2025-08-13 01:17:14.724 WARNING streamlit.runtime.caching.cache_data_api: No runtime found, using MemoryCacheStorageManager\n",
      "2025-08-13 01:17:14.726 WARNING streamlit.runtime.caching.cache_data_api: No runtime found, using MemoryCacheStorageManager\n"
     ]
    }
   ],
   "source": [
    "from database.queries import fetch_table, fetch_count"
   ]
  },
  {
   "cell_type": "code",
   "execution_count": 3,
   "id": "b962b5d5",
   "metadata": {},
   "outputs": [
    {
     "data": {
      "text/plain": [
       "194"
      ]
     },
     "execution_count": 3,
     "metadata": {},
     "output_type": "execute_result"
    }
   ],
   "source": [
    "count = fetch_count(\"analysis_results\")\n",
    "count"
   ]
  },
  {
   "cell_type": "code",
   "execution_count": 4,
   "id": "c542fe5a",
   "metadata": {},
   "outputs": [
    {
     "name": "stderr",
     "output_type": "stream",
     "text": [
      "2025-08-13 01:18:25.590 No runtime found, using MemoryCacheStorageManager\n",
      "/Users/nike/Documents/Data Science Work/Project/Hackthon/CX_Management_project/cx_dashboard/dashboard_project/database/queries.py:29: UserWarning: pandas only supports SQLAlchemy connectable (engine/connection) or database string URI or sqlite3 DBAPI2 connection. Other DBAPI2 objects are not tested. Please consider using SQLAlchemy.\n",
      "  df = pd.read_sql(query, conn)\n"
     ]
    },
    {
     "data": {
      "text/html": [
       "<div>\n",
       "<style scoped>\n",
       "    .dataframe tbody tr th:only-of-type {\n",
       "        vertical-align: middle;\n",
       "    }\n",
       "\n",
       "    .dataframe tbody tr th {\n",
       "        vertical-align: top;\n",
       "    }\n",
       "\n",
       "    .dataframe thead th {\n",
       "        text-align: right;\n",
       "    }\n",
       "</style>\n",
       "<table border=\"1\" class=\"dataframe\">\n",
       "  <thead>\n",
       "    <tr style=\"text-align: right;\">\n",
       "      <th></th>\n",
       "      <th>original_review_id</th>\n",
       "      <th>asin</th>\n",
       "      <th>title</th>\n",
       "      <th>region</th>\n",
       "      <th>sentiment</th>\n",
       "      <th>summary</th>\n",
       "      <th>key_drivers</th>\n",
       "      <th>urgency_score</th>\n",
       "      <th>issue_tags</th>\n",
       "      <th>primary_category</th>\n",
       "      <th>analysis_timestamp</th>\n",
       "    </tr>\n",
       "    <tr>\n",
       "      <th>id</th>\n",
       "      <th></th>\n",
       "      <th></th>\n",
       "      <th></th>\n",
       "      <th></th>\n",
       "      <th></th>\n",
       "      <th></th>\n",
       "      <th></th>\n",
       "      <th></th>\n",
       "      <th></th>\n",
       "      <th></th>\n",
       "      <th></th>\n",
       "    </tr>\n",
       "  </thead>\n",
       "  <tbody>\n",
       "    <tr>\n",
       "      <th>1</th>\n",
       "      <td>1</td>\n",
       "      <td>B002K6AHQY</td>\n",
       "      <td>CND Vinylux Weekly Nail Polish, Rock Royalty,...</td>\n",
       "      <td>Mumbai</td>\n",
       "      <td>Negative</td>\n",
       "      <td>The user is unhappy with the color.</td>\n",
       "      <td>{'Color Quality': 'Negative'}</td>\n",
       "      <td>1</td>\n",
       "      <td>[bad color]</td>\n",
       "      <td>Fragrance</td>\n",
       "      <td>2025-08-12 13:24:58.164489+00:00</td>\n",
       "    </tr>\n",
       "    <tr>\n",
       "      <th>2</th>\n",
       "      <td>2</td>\n",
       "      <td>B00176GSEI</td>\n",
       "      <td>HOT TOOLS Professional 24k Gold Extra-Long Bar...</td>\n",
       "      <td>Chennai</td>\n",
       "      <td>Positive</td>\n",
       "      <td>The user is satisfied with the curling iron, e...</td>\n",
       "      <td>{'Quality': 'Positive', 'Performance': 'Positi...</td>\n",
       "      <td>1</td>\n",
       "      <td>[none]</td>\n",
       "      <td>Haircare</td>\n",
       "      <td>2025-08-12 13:24:58.164489+00:00</td>\n",
       "    </tr>\n",
       "    <tr>\n",
       "      <th>3</th>\n",
       "      <td>3</td>\n",
       "      <td>B000ASDGK8</td>\n",
       "      <td>BaBylissPRO Ceramix Xtreme Dryer</td>\n",
       "      <td>Kolkata</td>\n",
       "      <td>Positive</td>\n",
       "      <td>The user is satisfied with the product, consid...</td>\n",
       "      <td>{'Performance': 'Positive'}</td>\n",
       "      <td>1</td>\n",
       "      <td>[]</td>\n",
       "      <td>Fragrance</td>\n",
       "      <td>2025-08-12 13:24:58.164489+00:00</td>\n",
       "    </tr>\n",
       "    <tr>\n",
       "      <th>4</th>\n",
       "      <td>4</td>\n",
       "      <td>B002K6AHQY</td>\n",
       "      <td>CND Vinylux Weekly Nail Polish, Rock Royalty,...</td>\n",
       "      <td>Kolkata</td>\n",
       "      <td>Negative</td>\n",
       "      <td>The user is unhappy with the color and finish ...</td>\n",
       "      <td>{'Color Accuracy': 'Negative', 'Finish Quality...</td>\n",
       "      <td>2</td>\n",
       "      <td>[wrong shade, shimmer issues]</td>\n",
       "      <td>Makeup</td>\n",
       "      <td>2025-08-12 13:24:58.164489+00:00</td>\n",
       "    </tr>\n",
       "    <tr>\n",
       "      <th>5</th>\n",
       "      <td>5</td>\n",
       "      <td>B00FYSZDQ4</td>\n",
       "      <td>COLOR WOW Root Cover Up</td>\n",
       "      <td>Bangalore</td>\n",
       "      <td>Positive</td>\n",
       "      <td>The user is satisfied with the easy applicatio...</td>\n",
       "      <td>{'Texture': 'Positive', 'Application Ease': 'P...</td>\n",
       "      <td>1</td>\n",
       "      <td>[easy to apply, no mess]</td>\n",
       "      <td>Makeup</td>\n",
       "      <td>2025-08-12 13:24:58.164489+00:00</td>\n",
       "    </tr>\n",
       "  </tbody>\n",
       "</table>\n",
       "</div>"
      ],
      "text/plain": [
       "    original_review_id        asin  \\\n",
       "id                                   \n",
       "1                    1  B002K6AHQY   \n",
       "2                    2  B00176GSEI   \n",
       "3                    3  B000ASDGK8   \n",
       "4                    4  B002K6AHQY   \n",
       "5                    5  B00FYSZDQ4   \n",
       "\n",
       "                                                title     region sentiment  \\\n",
       "id                                                                           \n",
       "1    CND Vinylux Weekly Nail Polish, Rock Royalty,...     Mumbai  Negative   \n",
       "2   HOT TOOLS Professional 24k Gold Extra-Long Bar...    Chennai  Positive   \n",
       "3                    BaBylissPRO Ceramix Xtreme Dryer    Kolkata  Positive   \n",
       "4    CND Vinylux Weekly Nail Polish, Rock Royalty,...    Kolkata  Negative   \n",
       "5                             COLOR WOW Root Cover Up  Bangalore  Positive   \n",
       "\n",
       "                                              summary  \\\n",
       "id                                                      \n",
       "1                 The user is unhappy with the color.   \n",
       "2   The user is satisfied with the curling iron, e...   \n",
       "3   The user is satisfied with the product, consid...   \n",
       "4   The user is unhappy with the color and finish ...   \n",
       "5   The user is satisfied with the easy applicatio...   \n",
       "\n",
       "                                          key_drivers  urgency_score  \\\n",
       "id                                                                     \n",
       "1                       {'Color Quality': 'Negative'}              1   \n",
       "2   {'Quality': 'Positive', 'Performance': 'Positi...              1   \n",
       "3                         {'Performance': 'Positive'}              1   \n",
       "4   {'Color Accuracy': 'Negative', 'Finish Quality...              2   \n",
       "5   {'Texture': 'Positive', 'Application Ease': 'P...              1   \n",
       "\n",
       "                       issue_tags primary_category  \\\n",
       "id                                                   \n",
       "1                     [bad color]        Fragrance   \n",
       "2                          [none]         Haircare   \n",
       "3                              []        Fragrance   \n",
       "4   [wrong shade, shimmer issues]           Makeup   \n",
       "5        [easy to apply, no mess]           Makeup   \n",
       "\n",
       "                 analysis_timestamp  \n",
       "id                                   \n",
       "1  2025-08-12 13:24:58.164489+00:00  \n",
       "2  2025-08-12 13:24:58.164489+00:00  \n",
       "3  2025-08-12 13:24:58.164489+00:00  \n",
       "4  2025-08-12 13:24:58.164489+00:00  \n",
       "5  2025-08-12 13:24:58.164489+00:00  "
      ]
     },
     "execution_count": 4,
     "metadata": {},
     "output_type": "execute_result"
    }
   ],
   "source": [
    "df = fetch_table(\"analysis_results\")\n",
    "df.head()"
   ]
  },
  {
   "cell_type": "code",
   "execution_count": null,
   "id": "12906df8",
   "metadata": {},
   "outputs": [],
   "source": []
  }
 ],
 "metadata": {
  "kernelspec": {
   "display_name": "GenAIProj",
   "language": "python",
   "name": "python3"
  },
  "language_info": {
   "codemirror_mode": {
    "name": "ipython",
    "version": 3
   },
   "file_extension": ".py",
   "mimetype": "text/x-python",
   "name": "python",
   "nbconvert_exporter": "python",
   "pygments_lexer": "ipython3",
   "version": "3.13.5"
  }
 },
 "nbformat": 4,
 "nbformat_minor": 5
}
