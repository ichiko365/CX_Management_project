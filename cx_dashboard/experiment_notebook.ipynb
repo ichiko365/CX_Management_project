{
 "cells": [
  {
   "cell_type": "code",
   "execution_count": 1,
   "id": "2ea89078",
   "metadata": {},
   "outputs": [],
   "source": [
    "import json\n",
    "from typing import List, Dict\n",
    "import datetime\n",
    "from pydantic import BaseModel, Field\n",
    "\n",
    "from langchain_community.chat_models.ollama import ChatOllama\n",
    "from langchain_core.prompts import ChatPromptTemplate\n",
    "from langchain_core.output_parsers import PydanticOutputParser\n"
   ]
  },
  {
   "cell_type": "markdown",
   "id": "b53f4f97",
   "metadata": {},
   "source": [
    "## Data Loading"
   ]
  },
  {
   "cell_type": "code",
   "execution_count": 30,
   "id": "6f19d82e",
   "metadata": {},
   "outputs": [],
   "source": [
    "\n",
    "\n",
    "def fetch_pending_reviews_from_file(filepath: str, limit: int = 100) -> List[Dict]:\n",
    "    pending_reviews = []\n",
    "    try:\n",
    "        print(f\"Opening file '{filepath}' to find pending reviews...\")\n",
    "        with open(filepath, \"r\") as f:\n",
    "            for line in f:\n",
    "                if len(pending_reviews) >= limit:\n",
    "                    break\n",
    "                review = json.loads(line)\n",
    "\n",
    "                if review.get(\"analysis_status\") == \"pending\":\n",
    "                    pending_reviews.append(review)\n",
    "        return pending_reviews\n",
    "    except FileNotFoundError:\n",
    "        print(\"Data file not found\")\n",
    "        return []\n",
    "    except Exception as e:\n",
    "        print(f\"An error occurred while reading the file: {e}\")\n",
    "        \n"
   ]
  },
  {
   "cell_type": "code",
   "execution_count": 31,
   "id": "e1b437c8",
   "metadata": {},
   "outputs": [
    {
     "name": "stdout",
     "output_type": "stream",
     "text": [
      "Opening file './data/sample_data.jsonl' to find pending reviews...\n"
     ]
    },
    {
     "data": {
      "text/plain": [
       "[{'rating': 5.0,\n",
       "  'title': 'Absolutely fantastic! Exceeded my expectations.',\n",
       "  'text': 'I was hesitant at first, but this product is brilliant. The build quality is solid, setup was a breeze, and it works perfectly. The packaging was also very premium. Highly recommended for anyone on the fence.',\n",
       "  'images': [{'small_image_url': 'https://example.com/images/product_A_small.jpg',\n",
       "    'medium_image_url': 'https://example.com/images/product_A_medium.jpg',\n",
       "    'large_image_url': 'https://example.com/images/product_A_large.jpg'}],\n",
       "  'asin': 'B07YQBEK13',\n",
       "  'parent_asin': 'B07YQBEK13',\n",
       "  'user_id': 'AG3D6O4STAQKAY2UVGEUV46KN35Q',\n",
       "  'timestamp': 1678886400000,\n",
       "  'verified_purchase': True,\n",
       "  'helpful_vote': 22,\n",
       "  'analysis_status': 'pending'},\n",
       " {'rating': 1.0,\n",
       "  'title': 'Broke after two days, complete waste of money.',\n",
       "  'text': \"The device stopped charging after the second use. I tried different cables and power outlets, but it's completely dead. The support number just rings and no one picks up. I want a refund but the return process is a nightmare. Do not buy.\",\n",
       "  'images': [],\n",
       "  'asin': 'B08Z1Y2X3W',\n",
       "  'parent_asin': 'B08Z1Y2X3W',\n",
       "  'user_id': 'AHV2EVOU42B6H5V2V4V4J4Q4Q4QQ',\n",
       "  'timestamp': 1679884800000,\n",
       "  'verified_purchase': True,\n",
       "  'helpful_vote': 45,\n",
       "  'analysis_status': 'pending'},\n",
       " {'rating': 3.0,\n",
       "  'title': \"It's okay, but has some major flaws.\",\n",
       "  'text': 'The main feature works as advertised and the screen is beautiful. However, the battery life is terrible, barely lasting half a day. It also gets surprisingly hot during normal use. Good concept, but the execution needs work.',\n",
       "  'images': [],\n",
       "  'asin': 'B09G8Y7X6V',\n",
       "  'parent_asin': 'B09G8Y7X6V',\n",
       "  'user_id': 'AIC3FCN35ZWER3T3W3W3G3R3R3RR',\n",
       "  'timestamp': 1680883200000,\n",
       "  'verified_purchase': False,\n",
       "  'helpful_vote': 3,\n",
       "  'analysis_status': 'pending'}]"
      ]
     },
     "execution_count": 31,
     "metadata": {},
     "output_type": "execute_result"
    }
   ],
   "source": [
    "filepath = \"./data/sample_data.jsonl\"\n",
    "raw_data = fetch_pending_reviews_from_file(filepath)\n",
    "raw_data"
   ]
  },
  {
   "cell_type": "code",
   "execution_count": 32,
   "id": "049674b7",
   "metadata": {},
   "outputs": [
    {
     "name": "stdout",
     "output_type": "stream",
     "text": [
      "[\n",
      "  {\n",
      "    \"text\": \"I was hesitant at first, but this product is brilliant. The build quality is solid, setup was a breeze, and it works perfectly. The packaging was also very premium. Highly recommended for anyone on the fence.\",\n",
      "    \"helpful_vote\": 22,\n",
      "    \"review_time\": \"2023-03-15 18:50:00\"\n",
      "  },\n",
      "  {\n",
      "    \"text\": \"The device stopped charging after the second use. I tried different cables and power outlets, but it's completely dead. The support number just rings and no one picks up. I want a refund but the return process is a nightmare. Do not buy.\",\n",
      "    \"helpful_vote\": 45,\n",
      "    \"review_time\": \"2023-03-27 08:10:00\"\n",
      "  },\n",
      "  {\n",
      "    \"text\": \"The main feature works as advertised and the screen is beautiful. However, a key feature is missing and the battery life is terrible.\",\n",
      "    \"helpful_vote\": 3,\n",
      "    \"review_time\": \"N/A\"\n",
      "  }\n",
      "]\n"
     ]
    }
   ],
   "source": [
    "from datetime import datetime\n",
    "import json\n",
    "\n",
    "def select_and_process_review_robust(raw_review: dict) -> dict:\n",
    "    \"\"\"\n",
    "    A more robust version that selects keys and handles missing\n",
    "    or invalid timestamps gracefully.\n",
    "    \"\"\"\n",
    "    try:\n",
    "        text = raw_review.get('text', 'No text provided')\n",
    "        helpful_vote = raw_review.get('helpful_vote', 0)\n",
    "        \n",
    "        readable_time = \"N/A\"  # A safe default value\n",
    "        \n",
    "        # --- Robust Timestamp Processing ---\n",
    "        unix_timestamp_ms = raw_review.get('timestamp')\n",
    "        \n",
    "        # Check if timestamp exists and is a number (int or float)\n",
    "        if isinstance(unix_timestamp_ms, (int, float)):\n",
    "            unix_timestamp_s = unix_timestamp_ms / 1000\n",
    "            dt_object = datetime.fromtimestamp(unix_timestamp_s)\n",
    "            readable_time = dt_object.strftime(\"%Y-%m-%d %H:%M:%S\")\n",
    "\n",
    "        # --- Build the new, clean dictionary ---\n",
    "        processed_data = {\n",
    "            \"text\": text,\n",
    "            \"helpful_vote\": helpful_vote,\n",
    "            \"review_time\": readable_time\n",
    "        }\n",
    "        \n",
    "        return processed_data\n",
    "\n",
    "    except Exception as e:\n",
    "        # This except block will now only catch unexpected errors\n",
    "        print(f\"An unexpected error occurred: {e}\")\n",
    "        return {}\n",
    "\n",
    "\n",
    "# --- Example using your data ---\n",
    "if __name__ == \"__main__\":\n",
    "    list_of_raw_reviews = [\n",
    "        {'rating': 5.0, 'title': 'Absolutely fantastic! Exceeded my expectations.', 'text': 'I was hesitant at first, but this product is brilliant. The build quality is solid, setup was a breeze, and it works perfectly. The packaging was also very premium. Highly recommended for anyone on the fence.', 'images': [{'small_image_url': 'https://example.com/images/product_A_small.jpg', 'medium_image_url': 'https://example.com/images/product_A_medium.jpg', 'large_image_url': 'https://example.com/images/product_A_large.jpg'}], 'asin': 'B07YQBEK13', 'parent_asin': 'B07YQBEK13', 'user_id': 'AG3D6O4STAQKAY2UVGEUV46KN35Q', 'timestamp': 1678886400000, 'verified_purchase': True, 'helpful_vote': 22, 'analysis_status': 'pending'},\n",
    "        {'rating': 1.0, 'title': 'Broke after two days, complete waste of money.', 'text': \"The device stopped charging after the second use. I tried different cables and power outlets, but it's completely dead. The support number just rings and no one picks up. I want a refund but the return process is a nightmare. Do not buy.\", 'images': [], 'asin': 'B08Z1Y2X3W', 'parent_asin': 'B08Z1Y2X3W', 'user_id': 'AHV2EVOU42B6H5V2V4V4J4Q4Q4QQ', 'timestamp': 1679884800000, 'verified_purchase': True, 'helpful_vote': 45, 'analysis_status': 'pending'},\n",
    "        {'rating': 3.0, 'title': \"It's okay, but has some major flaws.\", 'text': \"The main feature works as advertised and the screen is beautiful. However, a key feature is missing and the battery life is terrible.\", 'images': [], 'asin': 'B09G8Y7X6V', 'parent_asin': 'B09G8Y7X6V', 'user_id': 'AIC3FCN35ZWER3T3W3W3G3R3R3RR', 'timestamp': None, 'verified_purchase': False, 'helpful_vote': 3, 'analysis_status': 'pending'} # Example with a 'None' timestamp\n",
    "    ]\n",
    "\n",
    "    # Use a list comprehension with the new robust function\n",
    "    processed_list = [select_and_process_review_robust(review) for review in list_of_raw_reviews]\n",
    "\n",
    "    # --- Correct Final Output ---\n",
    "    print(json.dumps(processed_list, indent=2))"
   ]
  },
  {
   "cell_type": "code",
   "execution_count": 33,
   "id": "cbb1034c",
   "metadata": {},
   "outputs": [
    {
     "data": {
      "text/plain": [
       "[{'text': 'I was hesitant at first, but this product is brilliant. The build quality is solid, setup was a breeze, and it works perfectly. The packaging was also very premium. Highly recommended for anyone on the fence.',\n",
       "  'helpful_vote': 22,\n",
       "  'review_time': '2023-03-15 18:50:00'},\n",
       " {'text': \"The device stopped charging after the second use. I tried different cables and power outlets, but it's completely dead. The support number just rings and no one picks up. I want a refund but the return process is a nightmare. Do not buy.\",\n",
       "  'helpful_vote': 45,\n",
       "  'review_time': '2023-03-27 08:10:00'},\n",
       " {'text': 'The main feature works as advertised and the screen is beautiful. However, the battery life is terrible, barely lasting half a day. It also gets surprisingly hot during normal use. Good concept, but the execution needs work.',\n",
       "  'helpful_vote': 3,\n",
       "  'review_time': '2023-04-07 21:30:00'}]"
      ]
     },
     "execution_count": 33,
     "metadata": {},
     "output_type": "execute_result"
    }
   ],
   "source": [
    "# --- Processing the list ---\n",
    "processed_list = [select_and_process_review_robust(review) for review in raw_data]\n",
    "processed_list"
   ]
  },
  {
   "cell_type": "code",
   "execution_count": 34,
   "id": "83255427",
   "metadata": {},
   "outputs": [],
   "source": [
    "\n",
    "class ReviewAnalysis(BaseModel):\n",
    "    sentiment: str = Field(description=\"The overall sentiment: 'Positive', 'Negative', or 'Neutral'\")\n",
    "    main_topic: str = Field(description=\"The single primary topic from ['Durability', 'Performance', 'Shipping', 'Price', 'Features', 'Usability', 'Customer Service', 'Other']\")\n",
    "    \n",
    "    # --- UPDATED DESCRIPTION FOR THIS FIELD ---\n",
    "    key_drivers: Dict[str, str] = Field(description=\"A dictionary where keys are specific product features or topics mentioned (e.g., 'Battery Life', 'Screen Quality') and values are the sentiment for that specific topic: 'Positive', 'Negative', or 'Neutral'.\")\n",
    "    \n",
    "    is_actionable: bool = Field(description=\"Does this review contain specific feedback a team can act on?\")\n",
    "    summary: str = Field(description=\"A concise one-sentence summary of the review's main point.\")"
   ]
  },
  {
   "cell_type": "code",
   "execution_count": 35,
   "id": "a042e8cf",
   "metadata": {},
   "outputs": [],
   "source": [
    "# 2. The System Prompt (Defines the LLM's behavior)\n",
    "system_prompt = \"\"\"You are a world-class customer experience (CX) analysis API. Your sole purpose is to analyze a customer review and respond ONLY with a single, valid JSON object that strictly adheres to the provided schema. Do not include any introductory text, apologies, or explanations in your response. The user will provide the review data, and you must use the following formatting instructions to structure your response.\n",
    "\n",
    "{format_instructions}\"\"\"\n",
    "\n",
    "# 3. The Human Prompt (Provides the specific data for each call)\n",
    "human_prompt = \"\"\"Here is the review data to analyze:\n",
    "```json\n",
    "{review_data}\n",
    "```\"\"\"\n",
    "def analyze_review_with_ollama(processed_review: Dict) -> ReviewAnalysis:\n",
    "\n",
    "    parser = PydanticOutputParser(pydantic_object=ReviewAnalysis)\n",
    "\n",
    "    prompt = ChatPromptTemplate.from_messages([\n",
    "        (\"system\", system_prompt),\n",
    "        (\"human\", human_prompt)\n",
    "    ])\n",
    "\n",
    "\n",
    "    model = ChatOllama(model=\"llama3\")\n",
    "    chain = prompt | model | parser\n",
    "\n",
    "    try:\n",
    "        result = chain.invoke({\n",
    "            \"review_data\": json.dumps(processed_review),\n",
    "            \"format_instructions\": parser.get_format_instructions()\n",
    "        })\n",
    "        return result\n",
    "    except Exception as e:\n",
    "        print(f\"--- Could not analyze review. Error: {e} ---\")\n",
    "        return None\n",
    "    \n",
    "\n",
    "\n"
   ]
  },
  {
   "cell_type": "code",
   "execution_count": 36,
   "id": "0777b5eb",
   "metadata": {},
   "outputs": [],
   "source": [
    "# This is the string you will use in your ChatPromptTemplate\n",
    "detailed_prompt = \"\"\"\n",
    "# --- Persona & Goal ---\n",
    "You are a meticulous Customer Experience (CX) Analyst. Your task is to analyze customer reviews and convert them into a structured JSON object. You must adhere strictly to the format and rules defined below. Your response must be ONLY the single JSON object, with no other text or explanations.\n",
    "\n",
    "# --- Task Definitions ---\n",
    "You will generate a JSON object with the following keys:\n",
    "1.  `sentiment`: Must be one of three strings: 'Positive', 'Negative', or 'Neutral'.\n",
    "2.  `main_topic`: Must be the single most fitting category from this list: ['Durability', 'Performance', 'Shipping', 'Price', 'Features', 'Usability', 'Customer Service', 'Other'].\n",
    "3.  `key_drivers`: A dictionary where each key is a specific feature mentioned (e.g., \"Battery Life\") and the value is its corresponding sentiment ('Positive', 'Negative', or 'Neutral').\n",
    "4.  `is_actionable`: A boolean (`true` or `false`). Set to `true` only if the review contains specific, concrete feedback that a team could act on. A vague complaint like \"I don't like it\" is not actionable.\n",
    "5.  `summary`: A concise, single-sentence summary of the review's main point.\n",
    "\n",
    "# --- Examples ---\n",
    "\n",
    "## Example 1:\n",
    "### Input Review:\n",
    "```json\n",
    "{{\n",
    "  \"text\": \"The device stopped charging after the second use. I tried different cables and power outlets, but it's completely dead. The support number just rings and no one picks up. I want a refund but the return process is a nightmare. Do not buy.\",\n",
    "  \"helpful_vote\": 45,\n",
    "  \"review_time\": \"2023-03-27 13:30:00\"\n",
    "}}\n",
    "\"\"\""
   ]
  },
  {
   "cell_type": "code",
   "execution_count": 37,
   "id": "725ae82f",
   "metadata": {},
   "outputs": [
    {
     "name": "stdout",
     "output_type": "stream",
     "text": [
      "--- Starting analysis for 3 reviews ---\n",
      "\n",
      "➡️ Analyzing review #1...\n",
      "✅ Success for review #1.\n",
      "\n",
      "➡️ Analyzing review #2...\n"
     ]
    },
    {
     "name": "stderr",
     "output_type": "stream",
     "text": [
      "/var/folders/wh/4xk7n0ss7xg9nxqk4znmw1d80000gn/T/ipykernel_98095/494278473.py:16: PydanticDeprecatedSince20: The `dict` method is deprecated; use `model_dump` instead. Deprecated in Pydantic V2.0 to be removed in V3.0. See Pydantic V2 Migration Guide at https://errors.pydantic.dev/2.11/migration/\n",
      "  all_analysis_results.append(analysis_result.dict()) # Append as a dictionary\n"
     ]
    },
    {
     "name": "stdout",
     "output_type": "stream",
     "text": [
      "✅ Success for review #2.\n",
      "\n",
      "➡️ Analyzing review #3...\n"
     ]
    },
    {
     "name": "stderr",
     "output_type": "stream",
     "text": [
      "/var/folders/wh/4xk7n0ss7xg9nxqk4znmw1d80000gn/T/ipykernel_98095/494278473.py:16: PydanticDeprecatedSince20: The `dict` method is deprecated; use `model_dump` instead. Deprecated in Pydantic V2.0 to be removed in V3.0. See Pydantic V2 Migration Guide at https://errors.pydantic.dev/2.11/migration/\n",
      "  all_analysis_results.append(analysis_result.dict()) # Append as a dictionary\n"
     ]
    },
    {
     "name": "stdout",
     "output_type": "stream",
     "text": [
      "✅ Success for review #3.\n",
      "\n",
      "\n",
      "🏁 --- Batch processing complete! ---\n",
      "--- Final list of all analysis results: ---\n",
      "[\n",
      "  {\n",
      "    \"sentiment\": \"Positive\",\n",
      "    \"main_topic\": \"Performance\",\n",
      "    \"key_drivers\": {\n",
      "      \"Build Quality\": \"Positive\",\n",
      "      \"Setup\": \"Positive\",\n",
      "      \"Packaging\": \"Positive\"\n",
      "    },\n",
      "    \"is_actionable\": false,\n",
      "    \"summary\": \"This product is brilliant with solid build quality and easy setup.\"\n",
      "  },\n",
      "  {\n",
      "    \"sentiment\": \"Negative\",\n",
      "    \"main_topic\": \"Durability\",\n",
      "    \"key_drivers\": {\n",
      "      \"Charging Issues\": \"Negative\",\n",
      "      \"Support\": \"Negative\",\n",
      "      \"Return Process\": \"Negative\"\n",
      "    },\n",
      "    \"is_actionable\": true,\n",
      "    \"summary\": \"The device stopped charging after the second use and the support is unresponsive.\"\n",
      "  },\n",
      "  {\n",
      "    \"sentiment\": \"Neutral\",\n",
      "    \"main_topic\": \"Usability\",\n",
      "    \"key_drivers\": {\n",
      "      \"Battery Life\": \"Negative\",\n",
      "      \"Screen Quality\": \"Positive\"\n",
      "    },\n",
      "    \"is_actionable\": true,\n",
      "    \"summary\": \"The device's usability is hindered by poor battery life and excessive heat.\"\n",
      "  }\n",
      "]\n"
     ]
    },
    {
     "name": "stderr",
     "output_type": "stream",
     "text": [
      "/var/folders/wh/4xk7n0ss7xg9nxqk4znmw1d80000gn/T/ipykernel_98095/494278473.py:16: PydanticDeprecatedSince20: The `dict` method is deprecated; use `model_dump` instead. Deprecated in Pydantic V2.0 to be removed in V3.0. See Pydantic V2 Migration Guide at https://errors.pydantic.dev/2.11/migration/\n",
      "  all_analysis_results.append(analysis_result.dict()) # Append as a dictionary\n"
     ]
    }
   ],
   "source": [
    "# Create an empty list to store all the results\n",
    "all_analysis_results = []\n",
    "\n",
    "print(f\"--- Starting analysis for {len(processed_list)} reviews ---\")\n",
    "\n",
    "# This is the loop that processes each review one by one\n",
    "for i, review in enumerate(processed_list):\n",
    "    print(f\"\\n➡️ Analyzing review #{i+1}...\")\n",
    "    \n",
    "    # Call the analysis function for the current review\n",
    "    analysis_result = analyze_review_with_ollama(review)\n",
    "    \n",
    "    # If the analysis was successful, add it to our results list\n",
    "    if analysis_result:\n",
    "        print(f\"✅ Success for review #{i+1}.\")\n",
    "        all_analysis_results.append(analysis_result.dict()) # Append as a dictionary\n",
    "    else:\n",
    "        print(f\"❌ Failed to analyze review #{i+1}.\")\n",
    "\n",
    "print(\"\\n\\n🏁 --- Batch processing complete! ---\")\n",
    "print(\"--- Final list of all analysis results: ---\")\n",
    "print(json.dumps(all_analysis_results, indent=2))"
   ]
  },
  {
   "cell_type": "code",
   "execution_count": 38,
   "id": "fb084cca",
   "metadata": {},
   "outputs": [
    {
     "data": {
      "text/plain": [
       "[{'sentiment': 'Positive',\n",
       "  'main_topic': 'Performance',\n",
       "  'key_drivers': {'Build Quality': 'Positive',\n",
       "   'Setup': 'Positive',\n",
       "   'Packaging': 'Positive'},\n",
       "  'is_actionable': False,\n",
       "  'summary': 'This product is brilliant with solid build quality and easy setup.'},\n",
       " {'sentiment': 'Negative',\n",
       "  'main_topic': 'Durability',\n",
       "  'key_drivers': {'Charging Issues': 'Negative',\n",
       "   'Support': 'Negative',\n",
       "   'Return Process': 'Negative'},\n",
       "  'is_actionable': True,\n",
       "  'summary': 'The device stopped charging after the second use and the support is unresponsive.'},\n",
       " {'sentiment': 'Neutral',\n",
       "  'main_topic': 'Usability',\n",
       "  'key_drivers': {'Battery Life': 'Negative', 'Screen Quality': 'Positive'},\n",
       "  'is_actionable': True,\n",
       "  'summary': \"The device's usability is hindered by poor battery life and excessive heat.\"}]"
      ]
     },
     "execution_count": 38,
     "metadata": {},
     "output_type": "execute_result"
    }
   ],
   "source": [
    "all_analysis_results"
   ]
  },
  {
   "cell_type": "code",
   "execution_count": null,
   "id": "ea884d24",
   "metadata": {},
   "outputs": [],
   "source": []
  }
 ],
 "metadata": {
  "kernelspec": {
   "display_name": "buildathon_venv (3.13.5)",
   "language": "python",
   "name": "python3"
  },
  "language_info": {
   "codemirror_mode": {
    "name": "ipython",
    "version": 3
   },
   "file_extension": ".py",
   "mimetype": "text/x-python",
   "name": "python",
   "nbconvert_exporter": "python",
   "pygments_lexer": "ipython3",
   "version": "3.13.5"
  }
 },
 "nbformat": 4,
 "nbformat_minor": 5
}
