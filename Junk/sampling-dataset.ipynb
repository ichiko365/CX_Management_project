{
 "cells": [
  {
   "cell_type": "code",
   "execution_count": 1,
   "id": "37357360",
   "metadata": {},
   "outputs": [],
   "source": [
    "import pandas as pd"
   ]
  },
  {
   "cell_type": "code",
   "execution_count": 6,
   "id": "c50e6a28",
   "metadata": {},
   "outputs": [
    {
     "data": {
      "text/html": [
       "<div>\n",
       "<style scoped>\n",
       "    .dataframe tbody tr th:only-of-type {\n",
       "        vertical-align: middle;\n",
       "    }\n",
       "\n",
       "    .dataframe tbody tr th {\n",
       "        vertical-align: top;\n",
       "    }\n",
       "\n",
       "    .dataframe thead th {\n",
       "        text-align: right;\n",
       "    }\n",
       "</style>\n",
       "<table border=\"1\" class=\"dataframe\">\n",
       "  <thead>\n",
       "    <tr style=\"text-align: right;\">\n",
       "      <th></th>\n",
       "      <th>ASIN</th>\n",
       "      <th>Title</th>\n",
       "      <th>Description</th>\n",
       "      <th>ImageURL</th>\n",
       "      <th>Rating</th>\n",
       "      <th>Verified</th>\n",
       "      <th>ReviewTime</th>\n",
       "      <th>Review</th>\n",
       "      <th>Summary</th>\n",
       "      <th>Domestic Shipping</th>\n",
       "      <th>International Shipping</th>\n",
       "      <th>Sentiment</th>\n",
       "      <th>Region</th>\n",
       "    </tr>\n",
       "  </thead>\n",
       "  <tbody>\n",
       "    <tr>\n",
       "      <th>0</th>\n",
       "      <td>B00837YY18</td>\n",
       "      <td>Proraso Shaving Soap in a Bowl, Refreshing and...</td>\n",
       "      <td>Proraso Shaving Soap, Refreshing and Toning fo...</td>\n",
       "      <td>https://images-na.ssl-images-amazon.com/images...</td>\n",
       "      <td>5.0</td>\n",
       "      <td>True</td>\n",
       "      <td>2015-04-18</td>\n",
       "      <td>This is all it claims to be. A very good shave...</td>\n",
       "      <td>A good &amp; refreshing shave</td>\n",
       "      <td>Item can be shipped within U.S.</td>\n",
       "      <td>This item can be shipped to select countries o...</td>\n",
       "      <td>1.0</td>\n",
       "      <td>Chennai</td>\n",
       "    </tr>\n",
       "    <tr>\n",
       "      <th>1</th>\n",
       "      <td>B007P0MO2U</td>\n",
       "      <td>SEXYHAIR Big Powder Play Volumizing &amp;amp; Text...</td>\n",
       "      <td>Can re-activate with a quick scrunching motion...</td>\n",
       "      <td>https://images-na.ssl-images-amazon.com/images...</td>\n",
       "      <td>5.0</td>\n",
       "      <td>True</td>\n",
       "      <td>2015-03-20</td>\n",
       "      <td>I use this daily and it helps give my thin hai...</td>\n",
       "      <td>Five Stars</td>\n",
       "      <td>NaN</td>\n",
       "      <td>NaN</td>\n",
       "      <td>1.0</td>\n",
       "      <td>Delhi</td>\n",
       "    </tr>\n",
       "  </tbody>\n",
       "</table>\n",
       "</div>"
      ],
      "text/plain": [
       "         ASIN                                              Title  \\\n",
       "0  B00837YY18  Proraso Shaving Soap in a Bowl, Refreshing and...   \n",
       "1  B007P0MO2U  SEXYHAIR Big Powder Play Volumizing &amp; Text...   \n",
       "\n",
       "                                         Description  \\\n",
       "0  Proraso Shaving Soap, Refreshing and Toning fo...   \n",
       "1  Can re-activate with a quick scrunching motion...   \n",
       "\n",
       "                                            ImageURL  Rating  Verified  \\\n",
       "0  https://images-na.ssl-images-amazon.com/images...     5.0      True   \n",
       "1  https://images-na.ssl-images-amazon.com/images...     5.0      True   \n",
       "\n",
       "   ReviewTime                                             Review  \\\n",
       "0  2015-04-18  This is all it claims to be. A very good shave...   \n",
       "1  2015-03-20  I use this daily and it helps give my thin hai...   \n",
       "\n",
       "                     Summary                Domestic Shipping  \\\n",
       "0  A good & refreshing shave  Item can be shipped within U.S.   \n",
       "1                 Five Stars                              NaN   \n",
       "\n",
       "                              International Shipping  Sentiment   Region  \n",
       "0  This item can be shipped to select countries o...        1.0  Chennai  \n",
       "1                                                NaN        1.0    Delhi  "
      ]
     },
     "execution_count": 6,
     "metadata": {},
     "output_type": "execute_result"
    }
   ],
   "source": [
    "large = pd.read_csv(\"/Users/nike/Documents/Data Science Work/Project/Hackthon/CX_Management_project/cx_dashboard/data/amazon_data_v5.csv\")\n",
    "large.head(2)"
   ]
  },
  {
   "cell_type": "code",
   "execution_count": 5,
   "id": "ab5496bc",
   "metadata": {},
   "outputs": [
    {
     "data": {
      "text/html": [
       "<div>\n",
       "<style scoped>\n",
       "    .dataframe tbody tr th:only-of-type {\n",
       "        vertical-align: middle;\n",
       "    }\n",
       "\n",
       "    .dataframe tbody tr th {\n",
       "        vertical-align: top;\n",
       "    }\n",
       "\n",
       "    .dataframe thead th {\n",
       "        text-align: right;\n",
       "    }\n",
       "</style>\n",
       "<table border=\"1\" class=\"dataframe\">\n",
       "  <thead>\n",
       "    <tr style=\"text-align: right;\">\n",
       "      <th></th>\n",
       "      <th>ASIN</th>\n",
       "      <th>Title</th>\n",
       "      <th>Description</th>\n",
       "      <th>ImageURL</th>\n",
       "      <th>Rating</th>\n",
       "      <th>Verified</th>\n",
       "      <th>ReviewTime</th>\n",
       "      <th>Review</th>\n",
       "      <th>Summary</th>\n",
       "      <th>Domestic Shipping</th>\n",
       "      <th>International Shipping</th>\n",
       "      <th>Sentiment</th>\n",
       "      <th>Region</th>\n",
       "    </tr>\n",
       "  </thead>\n",
       "  <tbody>\n",
       "    <tr>\n",
       "      <th>0</th>\n",
       "      <td>B002K6AHQY</td>\n",
       "      <td>CND Vinylux Weekly Nail Polish, Rock Royalty,...</td>\n",
       "      <td>Vinylux weekly polish and weekly top coat are ...</td>\n",
       "      <td>https://images-na.ssl-images-amazon.com/images...</td>\n",
       "      <td>3.0</td>\n",
       "      <td>True</td>\n",
       "      <td>2015-10-19</td>\n",
       "      <td>This color not as good as the others</td>\n",
       "      <td>Three Stars</td>\n",
       "      <td>Currently, item can be shipped only within the...</td>\n",
       "      <td>This item is not eligible for international sh...</td>\n",
       "      <td>-1.0</td>\n",
       "      <td>Mumbai</td>\n",
       "    </tr>\n",
       "    <tr>\n",
       "      <th>1</th>\n",
       "      <td>B00176GSEI</td>\n",
       "      <td>HOT TOOLS Professional 24k Gold Extra-Long Bar...</td>\n",
       "      <td>Hot Tools Professional 1110 Curling Iron with ...</td>\n",
       "      <td>https://images-na.ssl-images-amazon.com/images...</td>\n",
       "      <td>5.0</td>\n",
       "      <td>True</td>\n",
       "      <td>2015-11-17</td>\n",
       "      <td>I've been using this curling iron for YEARS an...</td>\n",
       "      <td>The Best Curling Iron</td>\n",
       "      <td>NaN</td>\n",
       "      <td>NaN</td>\n",
       "      <td>1.0</td>\n",
       "      <td>Chennai</td>\n",
       "    </tr>\n",
       "  </tbody>\n",
       "</table>\n",
       "</div>"
      ],
      "text/plain": [
       "         ASIN                                              Title  \\\n",
       "0  B002K6AHQY   CND Vinylux Weekly Nail Polish, Rock Royalty,...   \n",
       "1  B00176GSEI  HOT TOOLS Professional 24k Gold Extra-Long Bar...   \n",
       "\n",
       "                                         Description  \\\n",
       "0  Vinylux weekly polish and weekly top coat are ...   \n",
       "1  Hot Tools Professional 1110 Curling Iron with ...   \n",
       "\n",
       "                                            ImageURL  Rating  Verified  \\\n",
       "0  https://images-na.ssl-images-amazon.com/images...     3.0      True   \n",
       "1  https://images-na.ssl-images-amazon.com/images...     5.0      True   \n",
       "\n",
       "   ReviewTime                                             Review  \\\n",
       "0  2015-10-19               This color not as good as the others   \n",
       "1  2015-11-17  I've been using this curling iron for YEARS an...   \n",
       "\n",
       "                 Summary                                  Domestic Shipping  \\\n",
       "0            Three Stars  Currently, item can be shipped only within the...   \n",
       "1  The Best Curling Iron                                                NaN   \n",
       "\n",
       "                              International Shipping  Sentiment   Region  \n",
       "0  This item is not eligible for international sh...       -1.0   Mumbai  \n",
       "1                                                NaN        1.0  Chennai  "
      ]
     },
     "execution_count": 5,
     "metadata": {},
     "output_type": "execute_result"
    }
   ],
   "source": [
    "small = pd.read_csv(\"/Users/nike/Documents/Data Science Work/Project/Hackthon/CX_Management_project/cx_dashboard/data/sampled_amazon_data.csv\")\n",
    "small.head(2)"
   ]
  },
  {
   "cell_type": "code",
   "execution_count": 7,
   "id": "3181bf68",
   "metadata": {},
   "outputs": [
    {
     "data": {
      "text/plain": [
       "((200, 13), (1800, 13))"
      ]
     },
     "execution_count": 7,
     "metadata": {},
     "output_type": "execute_result"
    }
   ],
   "source": [
    "small.shape, large.shape"
   ]
  },
  {
   "cell_type": "code",
   "execution_count": 8,
   "id": "7299a42b",
   "metadata": {},
   "outputs": [
    {
     "data": {
      "text/plain": [
       "Sentiment\n",
       " 1.0    1457\n",
       "-1.0     287\n",
       " 0.0      56\n",
       "Name: count, dtype: int64"
      ]
     },
     "execution_count": 8,
     "metadata": {},
     "output_type": "execute_result"
    }
   ],
   "source": [
    "large.Sentiment.value_counts()"
   ]
  },
  {
   "cell_type": "code",
   "execution_count": 10,
   "id": "bff0684a",
   "metadata": {},
   "outputs": [
    {
     "data": {
      "text/html": [
       "<div>\n",
       "<style scoped>\n",
       "    .dataframe tbody tr th:only-of-type {\n",
       "        vertical-align: middle;\n",
       "    }\n",
       "\n",
       "    .dataframe tbody tr th {\n",
       "        vertical-align: top;\n",
       "    }\n",
       "\n",
       "    .dataframe thead th {\n",
       "        text-align: right;\n",
       "    }\n",
       "</style>\n",
       "<table border=\"1\" class=\"dataframe\">\n",
       "  <thead>\n",
       "    <tr style=\"text-align: right;\">\n",
       "      <th>Rating</th>\n",
       "      <th>1.0</th>\n",
       "      <th>2.0</th>\n",
       "      <th>3.0</th>\n",
       "      <th>4.0</th>\n",
       "      <th>5.0</th>\n",
       "    </tr>\n",
       "    <tr>\n",
       "      <th>Sentiment</th>\n",
       "      <th></th>\n",
       "      <th></th>\n",
       "      <th></th>\n",
       "      <th></th>\n",
       "      <th></th>\n",
       "    </tr>\n",
       "  </thead>\n",
       "  <tbody>\n",
       "    <tr>\n",
       "      <th>-1.0</th>\n",
       "      <td>128</td>\n",
       "      <td>86</td>\n",
       "      <td>73</td>\n",
       "      <td>0</td>\n",
       "      <td>0</td>\n",
       "    </tr>\n",
       "    <tr>\n",
       "      <th>0.0</th>\n",
       "      <td>0</td>\n",
       "      <td>0</td>\n",
       "      <td>56</td>\n",
       "      <td>0</td>\n",
       "      <td>0</td>\n",
       "    </tr>\n",
       "    <tr>\n",
       "      <th>1.0</th>\n",
       "      <td>0</td>\n",
       "      <td>0</td>\n",
       "      <td>12</td>\n",
       "      <td>276</td>\n",
       "      <td>1169</td>\n",
       "    </tr>\n",
       "  </tbody>\n",
       "</table>\n",
       "</div>"
      ],
      "text/plain": [
       "Rating     1.0  2.0  3.0  4.0   5.0\n",
       "Sentiment                          \n",
       "-1.0       128   86   73    0     0\n",
       " 0.0         0    0   56    0     0\n",
       " 1.0         0    0   12  276  1169"
      ]
     },
     "execution_count": 10,
     "metadata": {},
     "output_type": "execute_result"
    }
   ],
   "source": [
    "# cross tab\n",
    "pd.crosstab(large['Sentiment'], large['Rating'])"
   ]
  },
  {
   "cell_type": "code",
   "execution_count": 16,
   "id": "0feb36f4",
   "metadata": {},
   "outputs": [
    {
     "name": "stdout",
     "output_type": "stream",
     "text": [
      "Shape of the new sample: (150, 13)\n",
      "\n",
      "Counts for each sentiment:\n",
      "Sentiment\n",
      "-1.0    50\n",
      " 0.0    50\n",
      " 1.0    50\n",
      "Name: count, dtype: int64\n"
     ]
    }
   ],
   "source": [
    "# Group by the 'Sentiment' column and sample 50 from each group\n",
    "# The random_state ensures you get the same \"random\" sample every time you run the code\n",
    "large_sample = large.groupby('Sentiment').sample(n=50, random_state=42)\n",
    "\n",
    "# Reset the index to get a clean 0, 1, 2, ... index\n",
    "large_sample.reset_index(drop=True, inplace=True)\n",
    "\n",
    "# --- Verification (Optional but recommended) ---\n",
    "# Check the final shape of your dataframe\n",
    "print(f\"Shape of the new sample: {large_sample.shape}\")\n",
    "\n",
    "# Check the count for each sentiment to confirm it's 50\n",
    "print(\"\\nCounts for each sentiment:\")\n",
    "print(large_sample['Sentiment'].value_counts())"
   ]
  },
  {
   "cell_type": "code",
   "execution_count": null,
   "id": "0fb72d8b",
   "metadata": {},
   "outputs": [],
   "source": []
  },
  {
   "cell_type": "code",
   "execution_count": null,
   "id": "93322ccd",
   "metadata": {},
   "outputs": [],
   "source": []
  },
  {
   "cell_type": "markdown",
   "id": "9f286eff",
   "metadata": {},
   "source": [
    "##  REsultant table"
   ]
  },
  {
   "cell_type": "code",
   "execution_count": 21,
   "id": "1a2aad31",
   "metadata": {},
   "outputs": [
    {
     "data": {
      "text/plain": [
       "Index(['id', 'ASIN', 'Title', 'Description', 'ImageURL', 'Rating', 'Verified',\n",
       "       'ReviewTime', 'Review', 'Summary', 'Domestic Shipping',\n",
       "       'International Shipping', 'Sentiment', 'Region', 'llama_sentiment',\n",
       "       'llama_summary', 'llama_key_drivers', 'llama_urgency_score',\n",
       "       'llama_issue_tags', 'llama_primary_category', 'llama_original_id',\n",
       "       'llama_asin', 'llama_title', 'llama_region', 'gemini_sentiment',\n",
       "       'gemini_summary', 'gemini_key_drivers', 'gemini_urgency_score',\n",
       "       'gemini_issue_tags', 'gemini_primary_category', 'gemini_original_id',\n",
       "       'gemini_asin', 'gemini_title', 'gemini_region'],\n",
       "      dtype='object')"
      ]
     },
     "execution_count": 21,
     "metadata": {},
     "output_type": "execute_result"
    }
   ],
   "source": [
    "import pandas as pd\n",
    "df = pd.read_csv('/Users/nike/Documents/Data Science Work/Project/Hackthon/CX_Management_project/cx_dashboard/data/training_comparison_results.csv')\n",
    "df.columns"
   ]
  },
  {
   "cell_type": "code",
   "execution_count": 22,
   "id": "a94d4d67",
   "metadata": {},
   "outputs": [],
   "source": [
    "pd.options.display.max_columns = 100"
   ]
  },
  {
   "cell_type": "code",
   "execution_count": 23,
   "id": "5964d23e",
   "metadata": {},
   "outputs": [
    {
     "data": {
      "text/html": [
       "<div>\n",
       "<style scoped>\n",
       "    .dataframe tbody tr th:only-of-type {\n",
       "        vertical-align: middle;\n",
       "    }\n",
       "\n",
       "    .dataframe tbody tr th {\n",
       "        vertical-align: top;\n",
       "    }\n",
       "\n",
       "    .dataframe thead th {\n",
       "        text-align: right;\n",
       "    }\n",
       "</style>\n",
       "<table border=\"1\" class=\"dataframe\">\n",
       "  <thead>\n",
       "    <tr style=\"text-align: right;\">\n",
       "      <th></th>\n",
       "      <th>id</th>\n",
       "      <th>ASIN</th>\n",
       "      <th>Title</th>\n",
       "      <th>Description</th>\n",
       "      <th>ImageURL</th>\n",
       "      <th>Rating</th>\n",
       "      <th>Verified</th>\n",
       "      <th>ReviewTime</th>\n",
       "      <th>Review</th>\n",
       "      <th>Summary</th>\n",
       "      <th>Domestic Shipping</th>\n",
       "      <th>International Shipping</th>\n",
       "      <th>Sentiment</th>\n",
       "      <th>Region</th>\n",
       "      <th>llama_sentiment</th>\n",
       "      <th>llama_summary</th>\n",
       "      <th>llama_key_drivers</th>\n",
       "      <th>llama_urgency_score</th>\n",
       "      <th>llama_issue_tags</th>\n",
       "      <th>llama_primary_category</th>\n",
       "      <th>llama_original_id</th>\n",
       "      <th>llama_asin</th>\n",
       "      <th>llama_title</th>\n",
       "      <th>llama_region</th>\n",
       "      <th>gemini_sentiment</th>\n",
       "      <th>gemini_summary</th>\n",
       "      <th>gemini_key_drivers</th>\n",
       "      <th>gemini_urgency_score</th>\n",
       "      <th>gemini_issue_tags</th>\n",
       "      <th>gemini_primary_category</th>\n",
       "      <th>gemini_original_id</th>\n",
       "      <th>gemini_asin</th>\n",
       "      <th>gemini_title</th>\n",
       "      <th>gemini_region</th>\n",
       "    </tr>\n",
       "  </thead>\n",
       "  <tbody>\n",
       "    <tr>\n",
       "      <th>0</th>\n",
       "      <td>14</td>\n",
       "      <td>B001T0HHAG</td>\n",
       "      <td>BaBylissPRO Nano Titanium Mini Straightening Iron</td>\n",
       "      <td>BaBylissPRO 1/2\" Travel Iron with Nano Titaniu...</td>\n",
       "      <td>https://images-na.ssl-images-amazon.com/images...</td>\n",
       "      <td>5.0</td>\n",
       "      <td>True</td>\n",
       "      <td>2015-11-10</td>\n",
       "      <td>VERY USEFUL!!</td>\n",
       "      <td>Five Stars</td>\n",
       "      <td>NaN</td>\n",
       "      <td>NaN</td>\n",
       "      <td>1.0</td>\n",
       "      <td>Mumbai</td>\n",
       "      <td>Positive</td>\n",
       "      <td>The user finds the product extremely useful.</td>\n",
       "      <td>{'Product Performance': 'Positive'}</td>\n",
       "      <td>1</td>\n",
       "      <td>[]</td>\n",
       "      <td>Beauty Tools</td>\n",
       "      <td>14</td>\n",
       "      <td>NaN</td>\n",
       "      <td>NaN</td>\n",
       "      <td>NaN</td>\n",
       "      <td>Positive</td>\n",
       "      <td>The user expresses strong positive sentiment a...</td>\n",
       "      <td>{'Application Quality': 'Positive'}</td>\n",
       "      <td>1</td>\n",
       "      <td>[]</td>\n",
       "      <td>other</td>\n",
       "      <td>14</td>\n",
       "      <td>NaN</td>\n",
       "      <td>NaN</td>\n",
       "      <td>NaN</td>\n",
       "    </tr>\n",
       "    <tr>\n",
       "      <th>1</th>\n",
       "      <td>185</td>\n",
       "      <td>B00FYSZDQ4</td>\n",
       "      <td>COLOR WOW Root Cover Up</td>\n",
       "      <td>Color Wow root cover up, winner of 44 major be...</td>\n",
       "      <td>https://images-na.ssl-images-amazon.com/images...</td>\n",
       "      <td>5.0</td>\n",
       "      <td>True</td>\n",
       "      <td>2015-07-13</td>\n",
       "      <td>this stuff is fantastic. Fills in area of thin...</td>\n",
       "      <td>this stuff is fantastic. Fills in area of thin...</td>\n",
       "      <td>NaN</td>\n",
       "      <td>NaN</td>\n",
       "      <td>1.0</td>\n",
       "      <td>Delhi</td>\n",
       "      <td>Positive</td>\n",
       "      <td>The user is thrilled with the product's perfor...</td>\n",
       "      <td>{'Product Performance': 'Positive'}</td>\n",
       "      <td>1</td>\n",
       "      <td>[]</td>\n",
       "      <td>Haircare</td>\n",
       "      <td>185</td>\n",
       "      <td>NaN</td>\n",
       "      <td>NaN</td>\n",
       "      <td>NaN</td>\n",
       "      <td>Positive</td>\n",
       "      <td>The user finds the hair filling product effect...</td>\n",
       "      <td>{'Hair Filling Performance': 'Positive', 'Long...</td>\n",
       "      <td>1</td>\n",
       "      <td>[]</td>\n",
       "      <td>Haircare</td>\n",
       "      <td>185</td>\n",
       "      <td>NaN</td>\n",
       "      <td>NaN</td>\n",
       "      <td>NaN</td>\n",
       "    </tr>\n",
       "  </tbody>\n",
       "</table>\n",
       "</div>"
      ],
      "text/plain": [
       "    id        ASIN                                              Title  \\\n",
       "0   14  B001T0HHAG  BaBylissPRO Nano Titanium Mini Straightening Iron   \n",
       "1  185  B00FYSZDQ4                            COLOR WOW Root Cover Up   \n",
       "\n",
       "                                         Description  \\\n",
       "0  BaBylissPRO 1/2\" Travel Iron with Nano Titaniu...   \n",
       "1  Color Wow root cover up, winner of 44 major be...   \n",
       "\n",
       "                                            ImageURL  Rating  Verified  \\\n",
       "0  https://images-na.ssl-images-amazon.com/images...     5.0      True   \n",
       "1  https://images-na.ssl-images-amazon.com/images...     5.0      True   \n",
       "\n",
       "   ReviewTime                                             Review  \\\n",
       "0  2015-11-10                                      VERY USEFUL!!   \n",
       "1  2015-07-13  this stuff is fantastic. Fills in area of thin...   \n",
       "\n",
       "                                             Summary Domestic Shipping  \\\n",
       "0                                         Five Stars               NaN   \n",
       "1  this stuff is fantastic. Fills in area of thin...               NaN   \n",
       "\n",
       "  International Shipping  Sentiment  Region llama_sentiment  \\\n",
       "0                    NaN        1.0  Mumbai        Positive   \n",
       "1                    NaN        1.0   Delhi        Positive   \n",
       "\n",
       "                                       llama_summary  \\\n",
       "0       The user finds the product extremely useful.   \n",
       "1  The user is thrilled with the product's perfor...   \n",
       "\n",
       "                     llama_key_drivers  llama_urgency_score llama_issue_tags  \\\n",
       "0  {'Product Performance': 'Positive'}                    1               []   \n",
       "1  {'Product Performance': 'Positive'}                    1               []   \n",
       "\n",
       "  llama_primary_category  llama_original_id  llama_asin  llama_title  \\\n",
       "0           Beauty Tools                 14         NaN          NaN   \n",
       "1               Haircare                185         NaN          NaN   \n",
       "\n",
       "   llama_region gemini_sentiment  \\\n",
       "0           NaN         Positive   \n",
       "1           NaN         Positive   \n",
       "\n",
       "                                      gemini_summary  \\\n",
       "0  The user expresses strong positive sentiment a...   \n",
       "1  The user finds the hair filling product effect...   \n",
       "\n",
       "                                  gemini_key_drivers  gemini_urgency_score  \\\n",
       "0                {'Application Quality': 'Positive'}                     1   \n",
       "1  {'Hair Filling Performance': 'Positive', 'Long...                     1   \n",
       "\n",
       "  gemini_issue_tags gemini_primary_category  gemini_original_id  gemini_asin  \\\n",
       "0                []                   other                  14          NaN   \n",
       "1                []                Haircare                 185          NaN   \n",
       "\n",
       "   gemini_title  gemini_region  \n",
       "0           NaN            NaN  \n",
       "1           NaN            NaN  "
      ]
     },
     "execution_count": 23,
     "metadata": {},
     "output_type": "execute_result"
    }
   ],
   "source": [
    "df.head(2)"
   ]
  },
  {
   "cell_type": "code",
   "execution_count": 24,
   "id": "22108d37",
   "metadata": {},
   "outputs": [
    {
     "data": {
      "text/plain": [
       "(5, 34)"
      ]
     },
     "execution_count": 24,
     "metadata": {},
     "output_type": "execute_result"
    }
   ],
   "source": [
    "df.shape"
   ]
  },
  {
   "cell_type": "code",
   "execution_count": 28,
   "id": "b0596530",
   "metadata": {},
   "outputs": [
    {
     "data": {
      "text/html": [
       "<div>\n",
       "<style scoped>\n",
       "    .dataframe tbody tr th:only-of-type {\n",
       "        vertical-align: middle;\n",
       "    }\n",
       "\n",
       "    .dataframe tbody tr th {\n",
       "        vertical-align: top;\n",
       "    }\n",
       "\n",
       "    .dataframe thead th {\n",
       "        text-align: right;\n",
       "    }\n",
       "</style>\n",
       "<table border=\"1\" class=\"dataframe\">\n",
       "  <thead>\n",
       "    <tr style=\"text-align: right;\">\n",
       "      <th></th>\n",
       "      <th>llama_issue_tags</th>\n",
       "      <th>gemini_issue_tags</th>\n",
       "    </tr>\n",
       "  </thead>\n",
       "  <tbody>\n",
       "    <tr>\n",
       "      <th>0</th>\n",
       "      <td>[]</td>\n",
       "      <td>[]</td>\n",
       "    </tr>\n",
       "    <tr>\n",
       "      <th>1</th>\n",
       "      <td>[]</td>\n",
       "      <td>[]</td>\n",
       "    </tr>\n",
       "    <tr>\n",
       "      <th>2</th>\n",
       "      <td>['eye irritation']</td>\n",
       "      <td>['eye irritation']</td>\n",
       "    </tr>\n",
       "    <tr>\n",
       "      <th>3</th>\n",
       "      <td>['Adjustment Period']</td>\n",
       "      <td>[]</td>\n",
       "    </tr>\n",
       "    <tr>\n",
       "      <th>4</th>\n",
       "      <td>[]</td>\n",
       "      <td>[]</td>\n",
       "    </tr>\n",
       "  </tbody>\n",
       "</table>\n",
       "</div>"
      ],
      "text/plain": [
       "        llama_issue_tags   gemini_issue_tags\n",
       "0                     []                  []\n",
       "1                     []                  []\n",
       "2     ['eye irritation']  ['eye irritation']\n",
       "3  ['Adjustment Period']                  []\n",
       "4                     []                  []"
      ]
     },
     "execution_count": 28,
     "metadata": {},
     "output_type": "execute_result"
    }
   ],
   "source": [
    "df[['llama_issue_tags', 'gemini_issue_tags']]"
   ]
  },
  {
   "cell_type": "code",
   "execution_count": 29,
   "id": "5c75fc89",
   "metadata": {},
   "outputs": [
    {
     "data": {
      "text/plain": [
       "['VERY USEFUL!!',\n",
       " 'this stuff is fantastic. Fills in area of thinning grey hair just as described and stays until washed out. great product',\n",
       " 'It works. My eyes are sensitive and get a bit irritated but it works well.',\n",
       " \"It took some getting used to, but I now love using this over disposable ones.\\nPros:  Long term, much cheaper than disposables.\\n  Gives a close shave.\\nCon:  Needed to get used to it, but that is not the product's fault.  That is due to inexperience using the safety razor.\",\n",
       " 'Amazing product. A tiny amount does wonders for shaping my hair. I love the small size for travel.']"
      ]
     },
     "execution_count": 29,
     "metadata": {},
     "output_type": "execute_result"
    }
   ],
   "source": [
    "df['Review'].tolist()"
   ]
  },
  {
   "cell_type": "code",
   "execution_count": null,
   "id": "2383ab03",
   "metadata": {},
   "outputs": [],
   "source": []
  }
 ],
 "metadata": {
  "kernelspec": {
   "display_name": "GenAIProj",
   "language": "python",
   "name": "python3"
  },
  "language_info": {
   "codemirror_mode": {
    "name": "ipython",
    "version": 3
   },
   "file_extension": ".py",
   "mimetype": "text/x-python",
   "name": "python",
   "nbconvert_exporter": "python",
   "pygments_lexer": "ipython3",
   "version": "3.13.5"
  }
 },
 "nbformat": 4,
 "nbformat_minor": 5
}
