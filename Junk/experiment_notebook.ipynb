{
 "cells": [
  {
   "cell_type": "code",
   "execution_count": 1,
   "id": "f9523fa8",
   "metadata": {},
   "outputs": [],
   "source": [
    "import os\n",
    "import pandas as pd\n",
    "from sqlalchemy import create_engine, text\n",
    "from dotenv import load_dotenv\n",
    "from urllib.parse import quote_plus\n",
    "\n",
    "def connect_to_postgres():\n",
    "    \"\"\"\n",
    "    Connects to the PostgreSQL database.\n",
    "    \"\"\"\n",
    "    # --- 1. Load config ---\n",
    "    load_dotenv(override=True)\n",
    "\n",
    "    db_user = os.getenv(\"DB_USER\")\n",
    "    db_password = os.getenv(\"DB_PASSWORD\")\n",
    "    db_host = os.getenv(\"DB_HOST\")\n",
    "    db_port = os.getenv(\"DB_PORT\")\n",
    "    db_name = os.getenv(\"RESULT_DB_NAME\")\n",
    "\n",
    "    # Create a database URL\n",
    "    db_url = f\"postgresql://{quote_plus(db_user)}:{quote_plus(db_password)}@{quote_plus(db_host)}:{quote_plus(str(db_port))}/{quote_plus(db_name)}\"\n",
    "\n",
    "    # Create a database engine\n",
    "    engine = create_engine(db_url)\n",
    "\n",
    "    return engine\n",
    "\n",
    "def load_data_from_db(table_name: str):\n",
    "    \"\"\"\n",
    "    Loads data from a PostgreSQL table into a DataFrame.\n",
    "    \"\"\"\n",
    "    engine = connect_to_postgres()\n",
    "    with engine.connect() as conn:\n",
    "        df = pd.read_sql_table(table_name, conn)\n",
    "    return df"
   ]
  },
  {
   "cell_type": "code",
   "execution_count": 16,
   "id": "25f75b95",
   "metadata": {},
   "outputs": [
    {
     "data": {
      "text/plain": [
       "(1999, 13)"
      ]
     },
     "execution_count": 16,
     "metadata": {},
     "output_type": "execute_result"
    }
   ],
   "source": [
    "df = load_data_from_db(\"analysis_results\")\n",
    "df.shape"
   ]
  },
  {
   "cell_type": "code",
   "execution_count": 7,
   "id": "41aa5eb7",
   "metadata": {},
   "outputs": [
    {
     "data": {
      "text/html": [
       "<div>\n",
       "<style scoped>\n",
       "    .dataframe tbody tr th:only-of-type {\n",
       "        vertical-align: middle;\n",
       "    }\n",
       "\n",
       "    .dataframe tbody tr th {\n",
       "        vertical-align: top;\n",
       "    }\n",
       "\n",
       "    .dataframe thead th {\n",
       "        text-align: right;\n",
       "    }\n",
       "</style>\n",
       "<table border=\"1\" class=\"dataframe\">\n",
       "  <thead>\n",
       "    <tr style=\"text-align: right;\">\n",
       "      <th></th>\n",
       "      <th>id</th>\n",
       "      <th>original_review_id</th>\n",
       "      <th>asin</th>\n",
       "      <th>title</th>\n",
       "      <th>region</th>\n",
       "      <th>sentiment</th>\n",
       "      <th>summary</th>\n",
       "      <th>key_drivers</th>\n",
       "      <th>urgency_score</th>\n",
       "      <th>issue_tags</th>\n",
       "      <th>primary_category</th>\n",
       "      <th>analysis_timestamp</th>\n",
       "      <th>review_date</th>\n",
       "    </tr>\n",
       "  </thead>\n",
       "  <tbody>\n",
       "    <tr>\n",
       "      <th>1272</th>\n",
       "      <td>1273</td>\n",
       "      <td>1245</td>\n",
       "      <td>B000NL0T1G</td>\n",
       "      <td>Classic Safety Razor</td>\n",
       "      <td>Kolkata</td>\n",
       "      <td>Positive</td>\n",
       "      <td>The user highly recommends the razor for provi...</td>\n",
       "      <td>{'Skin Compatibility': 'Positive', 'Product Pe...</td>\n",
       "      <td>1</td>\n",
       "      <td>[]</td>\n",
       "      <td>Beauty Tools</td>\n",
       "      <td>2025-08-22 11:06:28.439567+00:00</td>\n",
       "      <td>2025-01-25 18:30:00+00:00</td>\n",
       "    </tr>\n",
       "    <tr>\n",
       "      <th>1340</th>\n",
       "      <td>1341</td>\n",
       "      <td>1319</td>\n",
       "      <td>B000NL0T1G</td>\n",
       "      <td>Classic Safety Razor</td>\n",
       "      <td>Kolkata</td>\n",
       "      <td>Positive</td>\n",
       "      <td>The user highly recommends the razor, praising...</td>\n",
       "      <td>{'Value for Money': 'Positive', 'Application Q...</td>\n",
       "      <td>1</td>\n",
       "      <td>[]</td>\n",
       "      <td>Beauty Tools</td>\n",
       "      <td>2025-08-22 11:06:28.439567+00:00</td>\n",
       "      <td>2025-04-23 18:30:00+00:00</td>\n",
       "    </tr>\n",
       "  </tbody>\n",
       "</table>\n",
       "</div>"
      ],
      "text/plain": [
       "        id  original_review_id        asin                 title   region  \\\n",
       "1272  1273                1245  B000NL0T1G  Classic Safety Razor  Kolkata   \n",
       "1340  1341                1319  B000NL0T1G  Classic Safety Razor  Kolkata   \n",
       "\n",
       "     sentiment                                            summary  \\\n",
       "1272  Positive  The user highly recommends the razor for provi...   \n",
       "1340  Positive  The user highly recommends the razor, praising...   \n",
       "\n",
       "                                            key_drivers  urgency_score  \\\n",
       "1272  {'Skin Compatibility': 'Positive', 'Product Pe...              1   \n",
       "1340  {'Value for Money': 'Positive', 'Application Q...              1   \n",
       "\n",
       "     issue_tags primary_category               analysis_timestamp  \\\n",
       "1272         []     Beauty Tools 2025-08-22 11:06:28.439567+00:00   \n",
       "1340         []     Beauty Tools 2025-08-22 11:06:28.439567+00:00   \n",
       "\n",
       "                   review_date  \n",
       "1272 2025-01-25 18:30:00+00:00  \n",
       "1340 2025-04-23 18:30:00+00:00  "
      ]
     },
     "execution_count": 7,
     "metadata": {},
     "output_type": "execute_result"
    }
   ],
   "source": [
    "df.sort_values(by=\"analysis_timestamp\", ascending=True).tail(2)"
   ]
  },
  {
   "cell_type": "code",
   "execution_count": null,
   "id": "c13b5537",
   "metadata": {},
   "outputs": [],
   "source": []
  }
 ],
 "metadata": {
  "kernelspec": {
   "display_name": "GenAIProj",
   "language": "python",
   "name": "python3"
  },
  "language_info": {
   "codemirror_mode": {
    "name": "ipython",
    "version": 3
   },
   "file_extension": ".py",
   "mimetype": "text/x-python",
   "name": "python",
   "nbconvert_exporter": "python",
   "pygments_lexer": "ipython3",
   "version": "3.13.5"
  }
 },
 "nbformat": 4,
 "nbformat_minor": 5
}
